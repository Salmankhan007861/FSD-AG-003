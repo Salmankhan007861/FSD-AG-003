{
  "nbformat": 4,
  "nbformat_minor": 0,
  "metadata": {
    "colab": {
      "provenance": []
    },
    "kernelspec": {
      "name": "python3",
      "display_name": "Python 3"
    },
    "language_info": {
      "name": "python"
    }
  },
  "cells": [
    {
      "cell_type": "code",
      "execution_count": null,
      "metadata": {
        "id": "-2UF5APjpfS-"
      },
      "outputs": [],
      "source": [
        "#Question 1 : Create a layout with three boxes side by side using Flexbox. The first box should have twice the width of the other two. Provide the HTML and CSS code snippets.\n",
        "\n",
        "\"\"\"\"Ans:- the code will be:-\n",
        "\"\"HTML code\"\"\n",
        "<div class=\"container\">\n",
        "  <div class=\"box box1\">Box 1</div>\n",
        "  <div class=\"box box2\">Box 2</div>\n",
        "  <div class=\"box box3\">Box 3</div>\n",
        "</div>\n",
        "- here box is common class for all three div's.\n",
        "\n",
        "\"\"CSS code\"\"\n",
        ".container {\n",
        "  display: flex;\n",
        "}\n",
        "\n",
        ".box {\n",
        "  background-color: lightblue;\n",
        "  border: 1px solid red;\n",
        "  text-align: center;\n",
        "  padding: 20px;\n",
        "}\n",
        "\n",
        ".box1 {\n",
        "  flex: 2; /* takes twice the space of the others */\n",
        "}\n",
        "\n",
        ".box2,\n",
        ".box3 {\n",
        "  flex: 1;\n",
        "}  \"\"\"\"\"\n"
      ]
    },
    {
      "cell_type": "code",
      "source": [
        "#Question 2: Using CSS Grid, create a 2x2 grid layout where the first row spans two columns, and the second row has two equal columns. Provide the HTML and CSS code snippets.\n",
        "\"\"\"\" Ans:- Code will be:-\n",
        "\"\"HTML code\"\"\n",
        "<div class=\"grid-container\">\n",
        "  <div class=\"item item1\">Item 1</div> /* this will occupy two columns */\n",
        "  <div class=\"item item2\">Item 2</div>\n",
        "  <div class=\"item item3\">Item 3</div>\n",
        "</div>\n",
        "\n",
        "\"\"CSS code\"\"\n",
        ".grid-container {\n",
        "  display: grid;\n",
        "  grid-template-columns: 1fr 1fr; /* two equal columns */\n",
        "  grid-template-rows: auto auto;  /* two rows */\n",
        "  gap: 10px; /* optional spacing between items */\n",
        "}\n",
        "\n",
        ".item {\n",
        "  background-color: lightgreen;\n",
        "  border: 1px solid red;\n",
        "  text-align: center;\n",
        "  padding: 20px;\n",
        "}\n",
        "\n",
        ".item1 {\n",
        "  grid-column: 1 / span 2;\n",
        "}  \"\"\"\""
      ],
      "metadata": {
        "id": "j15-g_iVqiam"
      },
      "execution_count": null,
      "outputs": []
    },
    {
      "cell_type": "code",
      "source": [
        "#Question 3: Write a media query that changes the background color of the body to light grey when the screen width is less than 600px.\n",
        "\n",
        "\"\"\"\"Ans:- Code will be:-\n",
        "        @media (max-width: 600px) {\n",
        "  body {\n",
        "    background-color: lightgrey;\n",
        "  }\n",
        "} \"\"\"\"\n"
      ],
      "metadata": {
        "id": "0DkneGYUrcMd"
      },
      "execution_count": null,
      "outputs": []
    },
    {
      "cell_type": "code",
      "source": [
        "# Question 4: Create a button that changes its background color to blue and scales up slightly when hovered over, using CSS transitions. Provide the HTML and CSS code snippets.\n",
        "\"\"\"\"Ans:- Code will be:-\n",
        "\"\"HTML code\"\"\n",
        "<button class=\"btn\">Button</button>\n",
        "\n",
        "\"\"CSS code\"\"\n",
        ".btn {\n",
        "  background-color: lightblue;\n",
        "  border: none;\n",
        "  color: white;\n",
        "  padding: 10px 20px;\n",
        "  cursor: pointer;\n",
        "  transition: background-color 0.3s, transform;\n",
        "}\n",
        "\n",
        ".btn:hover {\n",
        "  background-color: blue;\n",
        "  transform: scale(1.1);\n",
        "}  \"\"\"\"\n"
      ],
      "metadata": {
        "id": "6QZKMtMarvpk"
      },
      "execution_count": null,
      "outputs": []
    },
    {
      "cell_type": "code",
      "source": [
        "#Question 5: Use the ::before pseudo-element to add a decorative icon before each list item in an unordered list with the class name ‘decorated-list’. Provide the HTML and CSS code snippets.\n",
        "\"\"\"\"Ans:- Code will be:-\n",
        "\"\"HTML code\"\"\n",
        "<ul class=\"decorated-list\">\n",
        "  <li>First item</li>\n",
        "  <li>Second item</li>\n",
        "  <li>Third item</li>\n",
        "</ul>\n",
        "\n",
        "\"\"CSS code\"\"\n",
        ".decorated-list li::before {\n",
        "  content: \"icon\";\n",
        "  margin-right: 8px;\n",
        "  color: gold;\n",
        "}\"\"\"\"\n"
      ],
      "metadata": {
        "id": "WRhxn1c4saCT"
      },
      "execution_count": null,
      "outputs": []
    },
    {
      "cell_type": "code",
      "source": [
        "#Question 6: Create a simple animation that moves a square box from left to right infinitely. Provide the HTML and CSS code snippets.\n",
        "\"\"\"Ans:- Code will be:-\n",
        "\"\"HTML code\"\"\n",
        "<div class=\"box\">\n",
        "  <div class=\"square\"></div>\n",
        "</div>\n",
        "\n",
        "\"\"CSS code\"\"\n",
        ".square {\n",
        "  width: 50px;\n",
        "  height: 50px;\n",
        "  background-color: red;\n",
        "  position: relative;\n",
        "  animation: moveRight 2s linear infinite;\n",
        "}\n",
        "\n",
        "@keyframes moveRight {\n",
        "  0% {\n",
        "    left: 0;\n",
        "  }\n",
        "  100% {\n",
        "    left: 300px;\n",
        "  }\n",
        "}  \"\"\""
      ],
      "metadata": {
        "id": "XfYE7CMCs8Gy"
      },
      "execution_count": null,
      "outputs": []
    },
    {
      "cell_type": "code",
      "source": [
        "# Question 7: Explain the difference between position: absolute; and position: fixed ; in CSS.\n",
        "\n",
        "\"\"\"Ans:- Differences are:-\n",
        "Absolute:\n",
        "1. Moves with the page when you scroll.\n",
        "2. Accepts co-ordinates like top,left etc.\n",
        "3. If no positioned ancestor exists, it uses the initial containing block.\n",
        "\n",
        "Fixed:\n",
        "1. Stays in the same spot on the screen even when you scroll.\n",
        "2. Useful for things like sticky navigation bar etc. \"\"\"\""
      ],
      "metadata": {
        "id": "173Kg2Jqtf96"
      },
      "execution_count": null,
      "outputs": []
    },
    {
      "cell_type": "code",
      "source": [
        "#Question 8: Create a layered layout where a semi-transparent overlay covers an image using z-index. Provide the HTML and CSS code snippets.\n",
        "\n",
        "\"\"\"Ans:- code will be:-\n",
        "\"\"HTML code\"\"\n",
        "<div class=\"image-container\">\n",
        "  <img src=\"image\" alt=\"Sample Image\">\n",
        "  <div class=\"overlay\"></div>\n",
        "</div>\n",
        "\n",
        "\"\"CSS code\"\"\n",
        ".image-container {\n",
        "  position: relative;\n",
        "  width: 400px;\n",
        "  height: 300px;\n",
        "}\n",
        "\n",
        ".image-container img {\n",
        "  width: 100%;\n",
        "  height: 100%;\n",
        "  display: block;\n",
        "}\n",
        "\n",
        ".overlay {\n",
        "  position: absolute;\n",
        "  top: 0;\n",
        "  left: 0;\n",
        "  width: 100%;\n",
        "  height: 100%;\n",
        "  background-color: rgba(0, 0, 0, 0.5);\n",
        "  z-index: 1;\n",
        "}\"\"\""
      ],
      "metadata": {
        "id": "FjQuaL2xuoWR"
      },
      "execution_count": null,
      "outputs": []
    }
  ]
}